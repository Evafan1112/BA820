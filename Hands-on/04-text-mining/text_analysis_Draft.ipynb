{
  "nbformat": 4,
  "nbformat_minor": 0,
  "metadata": {
    "colab": {
      "provenance": [],
      "authorship_tag": "ABX9TyOCihzMRArxFhRBSmz5edCS",
      "include_colab_link": true
    },
    "kernelspec": {
      "name": "python3",
      "display_name": "Python 3"
    },
    "language_info": {
      "name": "python"
    }
  },
  "cells": [
    {
      "cell_type": "markdown",
      "metadata": {
        "id": "view-in-github",
        "colab_type": "text"
      },
      "source": [
        "<a href=\"https://colab.research.google.com/github/elhamod/BA820/blob/main/Hands-on/04-text-mining/text_analysis_Draft.ipynb\" target=\"_parent\"><img src=\"https://colab.research.google.com/assets/colab-badge.svg\" alt=\"Open In Colab\"/></a>"
      ]
    },
    {
      "cell_type": "markdown",
      "source": [
        "##Text cleaning and Regex"
      ],
      "metadata": {
        "id": "dXf-GfaJ8eeZ"
      }
    },
    {
      "cell_type": "markdown",
      "source": [
        "we will start with some sentences. Each sentence in this context can be considered *a document*."
      ],
      "metadata": {
        "id": "wWeRoCDRCjPe"
      }
    },
    {
      "cell_type": "code",
      "source": [
        "corpus = [\n",
        "    \"In 1945, the US dropped two nuclear bombs on Japan. Japan surrendered afterwards.\",\n",
        "    \"Japan is located in Asia. Tokyo is its capital.\",\n",
        "    \"The capital of the USA is Washington D.C., which is located on the eastern seaboard.\",\n",
        "    \"I like eating apples! I eat 2.3 pounds everyday.\",\n",
        "    \"The capitol of Canada is Ottawa. My aunt's number there is (613)-554-2121. I enjoy visiting here.\",\n",
        "    \"       5/2 = 2.5.\",\n",
        "    \"The professor was very kind to us when creating the midterm exam.\"\n",
        "    \"An apple a day keeps the doctor away!\"\n",
        "    \"@jason We won the game! #WeAreTheChampions.\",\n",
        "    \"My phone number is Canada is (613)-224-2311        \",\n",
        "    \"Apples are good for your health.\"\n",
        "]\n",
        "\n",
        "import pandas as pd\n",
        "df = pd.DataFrame({'text':corpus})\n",
        "df"
      ],
      "metadata": {
        "colab": {
          "base_uri": "https://localhost:8080/",
          "height": 331
        },
        "id": "qHCi0tIbJWGa",
        "outputId": "2d3200ed-48c6-43ea-91d7-be3b1ab26fd4"
      },
      "execution_count": null,
      "outputs": [
        {
          "output_type": "execute_result",
          "data": {
            "text/plain": [
              "                                                text\n",
              "0  In 1945, the US dropped two nuclear bombs on J...\n",
              "1    Japan is located in Asia. Tokyo is its capital.\n",
              "2  The capital of the USA is Washington D.C., whi...\n",
              "3   I like eating apples! I eat 2.3 pounds everyday.\n",
              "4  The capitol of Canada is Ottawa. My aunt's num...\n",
              "5                                         5/2 = 2.5.\n",
              "6  The professor was very kind to us when creatin...\n",
              "7  My phone number is Canada is (613)-224-2311   ...\n",
              "8                   Apples are good for your health."
            ],
            "text/html": [
              "\n",
              "  <div id=\"df-f4866bfa-edc1-47b2-8ae7-4166c7158333\" class=\"colab-df-container\">\n",
              "    <div>\n",
              "<style scoped>\n",
              "    .dataframe tbody tr th:only-of-type {\n",
              "        vertical-align: middle;\n",
              "    }\n",
              "\n",
              "    .dataframe tbody tr th {\n",
              "        vertical-align: top;\n",
              "    }\n",
              "\n",
              "    .dataframe thead th {\n",
              "        text-align: right;\n",
              "    }\n",
              "</style>\n",
              "<table border=\"1\" class=\"dataframe\">\n",
              "  <thead>\n",
              "    <tr style=\"text-align: right;\">\n",
              "      <th></th>\n",
              "      <th>text</th>\n",
              "    </tr>\n",
              "  </thead>\n",
              "  <tbody>\n",
              "    <tr>\n",
              "      <th>0</th>\n",
              "      <td>In 1945, the US dropped two nuclear bombs on J...</td>\n",
              "    </tr>\n",
              "    <tr>\n",
              "      <th>1</th>\n",
              "      <td>Japan is located in Asia. Tokyo is its capital.</td>\n",
              "    </tr>\n",
              "    <tr>\n",
              "      <th>2</th>\n",
              "      <td>The capital of the USA is Washington D.C., whi...</td>\n",
              "    </tr>\n",
              "    <tr>\n",
              "      <th>3</th>\n",
              "      <td>I like eating apples! I eat 2.3 pounds everyday.</td>\n",
              "    </tr>\n",
              "    <tr>\n",
              "      <th>4</th>\n",
              "      <td>The capitol of Canada is Ottawa. My aunt's num...</td>\n",
              "    </tr>\n",
              "    <tr>\n",
              "      <th>5</th>\n",
              "      <td>5/2 = 2.5.</td>\n",
              "    </tr>\n",
              "    <tr>\n",
              "      <th>6</th>\n",
              "      <td>The professor was very kind to us when creatin...</td>\n",
              "    </tr>\n",
              "    <tr>\n",
              "      <th>7</th>\n",
              "      <td>My phone number is Canada is (613)-224-2311   ...</td>\n",
              "    </tr>\n",
              "    <tr>\n",
              "      <th>8</th>\n",
              "      <td>Apples are good for your health.</td>\n",
              "    </tr>\n",
              "  </tbody>\n",
              "</table>\n",
              "</div>\n",
              "    <div class=\"colab-df-buttons\">\n",
              "\n",
              "  <div class=\"colab-df-container\">\n",
              "    <button class=\"colab-df-convert\" onclick=\"convertToInteractive('df-f4866bfa-edc1-47b2-8ae7-4166c7158333')\"\n",
              "            title=\"Convert this dataframe to an interactive table.\"\n",
              "            style=\"display:none;\">\n",
              "\n",
              "  <svg xmlns=\"http://www.w3.org/2000/svg\" height=\"24px\" viewBox=\"0 -960 960 960\">\n",
              "    <path d=\"M120-120v-720h720v720H120Zm60-500h600v-160H180v160Zm220 220h160v-160H400v160Zm0 220h160v-160H400v160ZM180-400h160v-160H180v160Zm440 0h160v-160H620v160ZM180-180h160v-160H180v160Zm440 0h160v-160H620v160Z\"/>\n",
              "  </svg>\n",
              "    </button>\n",
              "\n",
              "  <style>\n",
              "    .colab-df-container {\n",
              "      display:flex;\n",
              "      gap: 12px;\n",
              "    }\n",
              "\n",
              "    .colab-df-convert {\n",
              "      background-color: #E8F0FE;\n",
              "      border: none;\n",
              "      border-radius: 50%;\n",
              "      cursor: pointer;\n",
              "      display: none;\n",
              "      fill: #1967D2;\n",
              "      height: 32px;\n",
              "      padding: 0 0 0 0;\n",
              "      width: 32px;\n",
              "    }\n",
              "\n",
              "    .colab-df-convert:hover {\n",
              "      background-color: #E2EBFA;\n",
              "      box-shadow: 0px 1px 2px rgba(60, 64, 67, 0.3), 0px 1px 3px 1px rgba(60, 64, 67, 0.15);\n",
              "      fill: #174EA6;\n",
              "    }\n",
              "\n",
              "    .colab-df-buttons div {\n",
              "      margin-bottom: 4px;\n",
              "    }\n",
              "\n",
              "    [theme=dark] .colab-df-convert {\n",
              "      background-color: #3B4455;\n",
              "      fill: #D2E3FC;\n",
              "    }\n",
              "\n",
              "    [theme=dark] .colab-df-convert:hover {\n",
              "      background-color: #434B5C;\n",
              "      box-shadow: 0px 1px 3px 1px rgba(0, 0, 0, 0.15);\n",
              "      filter: drop-shadow(0px 1px 2px rgba(0, 0, 0, 0.3));\n",
              "      fill: #FFFFFF;\n",
              "    }\n",
              "  </style>\n",
              "\n",
              "    <script>\n",
              "      const buttonEl =\n",
              "        document.querySelector('#df-f4866bfa-edc1-47b2-8ae7-4166c7158333 button.colab-df-convert');\n",
              "      buttonEl.style.display =\n",
              "        google.colab.kernel.accessAllowed ? 'block' : 'none';\n",
              "\n",
              "      async function convertToInteractive(key) {\n",
              "        const element = document.querySelector('#df-f4866bfa-edc1-47b2-8ae7-4166c7158333');\n",
              "        const dataTable =\n",
              "          await google.colab.kernel.invokeFunction('convertToInteractive',\n",
              "                                                    [key], {});\n",
              "        if (!dataTable) return;\n",
              "\n",
              "        const docLinkHtml = 'Like what you see? Visit the ' +\n",
              "          '<a target=\"_blank\" href=https://colab.research.google.com/notebooks/data_table.ipynb>data table notebook</a>'\n",
              "          + ' to learn more about interactive tables.';\n",
              "        element.innerHTML = '';\n",
              "        dataTable['output_type'] = 'display_data';\n",
              "        await google.colab.output.renderOutput(dataTable, element);\n",
              "        const docLink = document.createElement('div');\n",
              "        docLink.innerHTML = docLinkHtml;\n",
              "        element.appendChild(docLink);\n",
              "      }\n",
              "    </script>\n",
              "  </div>\n",
              "\n",
              "\n",
              "<div id=\"df-e2e551bf-e281-4d6e-8173-3c14c26cb694\">\n",
              "  <button class=\"colab-df-quickchart\" onclick=\"quickchart('df-e2e551bf-e281-4d6e-8173-3c14c26cb694')\"\n",
              "            title=\"Suggest charts\"\n",
              "            style=\"display:none;\">\n",
              "\n",
              "<svg xmlns=\"http://www.w3.org/2000/svg\" height=\"24px\"viewBox=\"0 0 24 24\"\n",
              "     width=\"24px\">\n",
              "    <g>\n",
              "        <path d=\"M19 3H5c-1.1 0-2 .9-2 2v14c0 1.1.9 2 2 2h14c1.1 0 2-.9 2-2V5c0-1.1-.9-2-2-2zM9 17H7v-7h2v7zm4 0h-2V7h2v10zm4 0h-2v-4h2v4z\"/>\n",
              "    </g>\n",
              "</svg>\n",
              "  </button>\n",
              "\n",
              "<style>\n",
              "  .colab-df-quickchart {\n",
              "      --bg-color: #E8F0FE;\n",
              "      --fill-color: #1967D2;\n",
              "      --hover-bg-color: #E2EBFA;\n",
              "      --hover-fill-color: #174EA6;\n",
              "      --disabled-fill-color: #AAA;\n",
              "      --disabled-bg-color: #DDD;\n",
              "  }\n",
              "\n",
              "  [theme=dark] .colab-df-quickchart {\n",
              "      --bg-color: #3B4455;\n",
              "      --fill-color: #D2E3FC;\n",
              "      --hover-bg-color: #434B5C;\n",
              "      --hover-fill-color: #FFFFFF;\n",
              "      --disabled-bg-color: #3B4455;\n",
              "      --disabled-fill-color: #666;\n",
              "  }\n",
              "\n",
              "  .colab-df-quickchart {\n",
              "    background-color: var(--bg-color);\n",
              "    border: none;\n",
              "    border-radius: 50%;\n",
              "    cursor: pointer;\n",
              "    display: none;\n",
              "    fill: var(--fill-color);\n",
              "    height: 32px;\n",
              "    padding: 0;\n",
              "    width: 32px;\n",
              "  }\n",
              "\n",
              "  .colab-df-quickchart:hover {\n",
              "    background-color: var(--hover-bg-color);\n",
              "    box-shadow: 0 1px 2px rgba(60, 64, 67, 0.3), 0 1px 3px 1px rgba(60, 64, 67, 0.15);\n",
              "    fill: var(--button-hover-fill-color);\n",
              "  }\n",
              "\n",
              "  .colab-df-quickchart-complete:disabled,\n",
              "  .colab-df-quickchart-complete:disabled:hover {\n",
              "    background-color: var(--disabled-bg-color);\n",
              "    fill: var(--disabled-fill-color);\n",
              "    box-shadow: none;\n",
              "  }\n",
              "\n",
              "  .colab-df-spinner {\n",
              "    border: 2px solid var(--fill-color);\n",
              "    border-color: transparent;\n",
              "    border-bottom-color: var(--fill-color);\n",
              "    animation:\n",
              "      spin 1s steps(1) infinite;\n",
              "  }\n",
              "\n",
              "  @keyframes spin {\n",
              "    0% {\n",
              "      border-color: transparent;\n",
              "      border-bottom-color: var(--fill-color);\n",
              "      border-left-color: var(--fill-color);\n",
              "    }\n",
              "    20% {\n",
              "      border-color: transparent;\n",
              "      border-left-color: var(--fill-color);\n",
              "      border-top-color: var(--fill-color);\n",
              "    }\n",
              "    30% {\n",
              "      border-color: transparent;\n",
              "      border-left-color: var(--fill-color);\n",
              "      border-top-color: var(--fill-color);\n",
              "      border-right-color: var(--fill-color);\n",
              "    }\n",
              "    40% {\n",
              "      border-color: transparent;\n",
              "      border-right-color: var(--fill-color);\n",
              "      border-top-color: var(--fill-color);\n",
              "    }\n",
              "    60% {\n",
              "      border-color: transparent;\n",
              "      border-right-color: var(--fill-color);\n",
              "    }\n",
              "    80% {\n",
              "      border-color: transparent;\n",
              "      border-right-color: var(--fill-color);\n",
              "      border-bottom-color: var(--fill-color);\n",
              "    }\n",
              "    90% {\n",
              "      border-color: transparent;\n",
              "      border-bottom-color: var(--fill-color);\n",
              "    }\n",
              "  }\n",
              "</style>\n",
              "\n",
              "  <script>\n",
              "    async function quickchart(key) {\n",
              "      const quickchartButtonEl =\n",
              "        document.querySelector('#' + key + ' button');\n",
              "      quickchartButtonEl.disabled = true;  // To prevent multiple clicks.\n",
              "      quickchartButtonEl.classList.add('colab-df-spinner');\n",
              "      try {\n",
              "        const charts = await google.colab.kernel.invokeFunction(\n",
              "            'suggestCharts', [key], {});\n",
              "      } catch (error) {\n",
              "        console.error('Error during call to suggestCharts:', error);\n",
              "      }\n",
              "      quickchartButtonEl.classList.remove('colab-df-spinner');\n",
              "      quickchartButtonEl.classList.add('colab-df-quickchart-complete');\n",
              "    }\n",
              "    (() => {\n",
              "      let quickchartButtonEl =\n",
              "        document.querySelector('#df-e2e551bf-e281-4d6e-8173-3c14c26cb694 button');\n",
              "      quickchartButtonEl.style.display =\n",
              "        google.colab.kernel.accessAllowed ? 'block' : 'none';\n",
              "    })();\n",
              "  </script>\n",
              "</div>\n",
              "    </div>\n",
              "  </div>\n"
            ]
          },
          "metadata": {},
          "execution_count": 14
        }
      ]
    },
    {
      "cell_type": "markdown",
      "source": [
        "Some pre-processing you might want to consider:\n",
        "\n",
        "- lower/upper casing. *Is the effect positive or negative?*\n",
        "- Removing trailing spaces.\n",
        "- Removing punctuation. *Is the effect positive or negative?*\n",
        "- Replacing synonyms."
      ],
      "metadata": {
        "id": "PoKB7NaRZQMJ"
      }
    },
    {
      "cell_type": "code",
      "source": [],
      "metadata": {
        "id": "6X0Eh848ZQSP"
      },
      "execution_count": null,
      "outputs": []
    },
    {
      "cell_type": "markdown",
      "source": [
        "##Tokenization\n",
        "\n",
        "Let's break down the text. This might entail some processing."
      ],
      "metadata": {
        "id": "W04fTkA5KeXA"
      }
    },
    {
      "cell_type": "code",
      "source": [
        "from nltk.tokenize import word_tokenize, wordpunct_tokenize, sent_tokenize, WhitespaceTokenizer, RegexpTokenizer\n",
        "from nltk.tokenize.casual import TweetTokenizer\n",
        "import nltk\n",
        "nltk.download('punkt')\n",
        "\n"
      ],
      "metadata": {
        "id": "gSsuYuMcKekQ"
      },
      "execution_count": null,
      "outputs": []
    },
    {
      "cell_type": "markdown",
      "source": [
        "Tokenization does not have to be at the word level..."
      ],
      "metadata": {
        "id": "nACwl08H-eZe"
      }
    },
    {
      "cell_type": "code",
      "source": [
        "nltk.download('words')\n",
        "from nltk.corpus import words\n",
        "from nltk.tokenize import LegalitySyllableTokenizer\n",
        "\n",
        "# print(words)\n",
        "LP = LegalitySyllableTokenizer(words.words())\n",
        "\n",
        "for tokenized_document in tokenized:\n",
        "  tokenied2 = [LP.tokenize(word) for word in tokenized_document]\n",
        "  print(tokenied2)"
      ],
      "metadata": {
        "id": "C64iIjmI-dl7"
      },
      "execution_count": null,
      "outputs": []
    },
    {
      "cell_type": "markdown",
      "source": [
        "- **Question:** Is it better to tokenize by word, sentence, character, or \"sub-words?\"."
      ],
      "metadata": {
        "id": "8-2hwS---8qz"
      }
    },
    {
      "cell_type": "markdown",
      "source": [
        "**Questions:**\n",
        "\n",
        "- any interesting sentences you want to try?\n",
        "- What if I want to only collect phone numbers?\n"
      ],
      "metadata": {
        "id": "YToUo0nN8wVC"
      }
    },
    {
      "cell_type": "markdown",
      "source": [
        "#Bag of Words"
      ],
      "metadata": {
        "id": "KttSbUqeckDI"
      }
    },
    {
      "cell_type": "markdown",
      "source": [
        "Now that we have tokenized the sentences, we can vectorize them. Let's use **Bag of Words**, the simplest way we know.\n",
        "\n",
        "Let's create and fit the model."
      ],
      "metadata": {
        "id": "rhLSwvahDDjW"
      }
    },
    {
      "cell_type": "code",
      "source": [
        "from sklearn.feature_extraction.text import CountVectorizer"
      ],
      "metadata": {
        "id": "8F7gRbqsDDpw"
      },
      "execution_count": null,
      "outputs": []
    },
    {
      "cell_type": "code",
      "source": [],
      "metadata": {
        "id": "fI6voyQBehfd"
      },
      "execution_count": null,
      "outputs": []
    },
    {
      "cell_type": "markdown",
      "source": [
        "Questions:\n",
        "\n",
        "- Can we do custom tokenization?\n",
        "- Can we specify stop words?"
      ],
      "metadata": {
        "id": "mOfJ33tq_i7Q"
      }
    },
    {
      "cell_type": "markdown",
      "source": [
        "You can print the list of stop words that was used"
      ],
      "metadata": {
        "id": "rkewL04C_53b"
      }
    },
    {
      "cell_type": "code",
      "source": [
        "cv.get_stop_words()"
      ],
      "metadata": {
        "id": "KlvAxqjSiXLP"
      },
      "execution_count": null,
      "outputs": []
    },
    {
      "cell_type": "markdown",
      "source": [
        "Now, let's transform the documents into BoW format"
      ],
      "metadata": {
        "id": "ZIxbpHsFABhW"
      }
    },
    {
      "cell_type": "code",
      "source": [],
      "metadata": {
        "id": "u5ZMb7-HewxC"
      },
      "execution_count": null,
      "outputs": []
    },
    {
      "cell_type": "markdown",
      "source": [
        "**Question:** What does this table remind you of? Is there any relevance?"
      ],
      "metadata": {
        "id": "YBTuurH8_Wh8"
      }
    },
    {
      "cell_type": "markdown",
      "source": [
        "We can see which tokens were extracted for a sentence using `cv.build_analyzer()`"
      ],
      "metadata": {
        "id": "cMmLbUVxALW6"
      }
    },
    {
      "cell_type": "code",
      "source": [],
      "metadata": {
        "id": "nnbLhhfJlyDs"
      },
      "execution_count": null,
      "outputs": []
    },
    {
      "cell_type": "markdown",
      "source": [
        "##Document Similarity"
      ],
      "metadata": {
        "id": "04X1vSF-AvBL"
      }
    },
    {
      "cell_type": "markdown",
      "source": [
        "Let's compare cosine similarity vs. Euclidean distance. We will calculate the *similariy matrix*."
      ],
      "metadata": {
        "id": "RbfC8K_zFih5"
      }
    },
    {
      "cell_type": "markdown",
      "source": [
        "First, cosine similarity"
      ],
      "metadata": {
        "id": "XavZgdCEBAAn"
      }
    },
    {
      "cell_type": "code",
      "source": [
        "from sklearn.metrics.pairwise import cosine_similarity\n",
        "from scipy.spatial.distance import euclidean\n",
        "from scipy.spatial.distance import squareform\n",
        "from scipy.spatial.distance import pdist\n",
        "\n"
      ],
      "metadata": {
        "id": "wQB0-WG5FioS"
      },
      "execution_count": null,
      "outputs": []
    },
    {
      "cell_type": "code",
      "source": [],
      "metadata": {
        "id": "VsqbH8slnwwM"
      },
      "execution_count": null,
      "outputs": []
    },
    {
      "cell_type": "markdown",
      "source": [
        "Now, Euclidean *similarity*"
      ],
      "metadata": {
        "id": "N8xmUQlmBIWz"
      }
    },
    {
      "cell_type": "code",
      "source": [],
      "metadata": {
        "id": "2uTvvHytkeM-"
      },
      "execution_count": null,
      "outputs": []
    },
    {
      "cell_type": "markdown",
      "source": [
        "## Spam Detection\n",
        "\n"
      ],
      "metadata": {
        "id": "W5TQ8S46DWsO"
      }
    },
    {
      "cell_type": "code",
      "source": [
        "url = \"https://raw.githubusercontent.com/elhamod/BA820/main/Hands-on/04-text-mining/hamspam.csv\"\n",
        "df = pd.read_csv(url, names = ['type', 'text'], index_col='type')\n",
        "\n",
        "X = df['text']\n",
        "y = df.index\n",
        "\n",
        "# df = pd.DataFrame(df.text.str.lower()) # We can try lower-casing.\n",
        "\n",
        "df"
      ],
      "metadata": {
        "id": "GyRLnt9goWpE"
      },
      "execution_count": null,
      "outputs": []
    },
    {
      "cell_type": "markdown",
      "source": [
        "###Unsupervised step: Let's vectorize"
      ],
      "metadata": {
        "id": "QtY2NMe8BwhV"
      }
    },
    {
      "cell_type": "code",
      "source": [
        "from sklearn.model_selection import train_test_split\n",
        "\n",
        "# train/test split\n",
        "X_train, X_test, y_train, y_test = train_test_split(X, y, test_size=0.2, random_state=42)"
      ],
      "metadata": {
        "id": "xZYMJeP7DiEc"
      },
      "execution_count": null,
      "outputs": []
    },
    {
      "cell_type": "code",
      "source": [],
      "metadata": {
        "id": "796OX9q5rJRn"
      },
      "execution_count": null,
      "outputs": []
    },
    {
      "cell_type": "code",
      "source": [
        "X_train_counts.toarray().shape"
      ],
      "metadata": {
        "colab": {
          "base_uri": "https://localhost:8080/"
        },
        "id": "OAXfE1v1rKbj",
        "outputId": "5b29ddfd-aa2e-4001-9973-17c83b62cfb6"
      },
      "execution_count": null,
      "outputs": [
        {
          "output_type": "execute_result",
          "data": {
            "text/plain": [
              "(4457, 9609)"
            ]
          },
          "metadata": {},
          "execution_count": 28
        }
      ]
    },
    {
      "cell_type": "markdown",
      "source": [
        "There are almost 9600 different tokens! This is very high dimensional."
      ],
      "metadata": {
        "id": "mNxOvOyMCSbl"
      }
    },
    {
      "cell_type": "markdown",
      "source": [
        "###Supervised learning: Let's train a classifier and look at the results."
      ],
      "metadata": {
        "id": "OQ1tWq-1Cdz1"
      }
    },
    {
      "cell_type": "code",
      "source": [
        "from sklearn.linear_model import LogisticRegression\n",
        "from sklearn.metrics import accuracy_score, classification_report\n",
        "from sklearn.metrics import confusion_matrix\n",
        "\n"
      ],
      "metadata": {
        "id": "7gVd26C8qN4h"
      },
      "execution_count": null,
      "outputs": []
    },
    {
      "cell_type": "markdown",
      "source": [
        "**Question:** Would making tokens lower case help?"
      ],
      "metadata": {
        "id": "o950Gn0rBbrS"
      }
    },
    {
      "cell_type": "markdown",
      "source": [
        "**Questions:**\n",
        "\n",
        "- Would dimensionality reduction help?\n",
        "- Would clustering work?\n",
        "- Plot the tSNE plot of this dataset."
      ],
      "metadata": {
        "id": "vuhqikhwDUr5"
      }
    }
  ]
}